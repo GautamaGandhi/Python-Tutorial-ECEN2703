{
 "cells": [
  {
   "cell_type": "code",
   "execution_count": null,
   "id": "3be12c32",
   "metadata": {},
   "outputs": [],
   "source": [
    "from z3 import *"
   ]
  },
  {
   "cell_type": "code",
   "execution_count": null,
   "id": "3747f0d0",
   "metadata": {},
   "outputs": [],
   "source": [
    "def block_model(s):\n",
    "    \"\"\"Returns a clause that blocks the \n",
    "        current solution.\"\"\"\n",
    "    m = s.model()\n",
    "    return Or([x!= m[x] for x in [a,b]])"
   ]
  },
  {
   "cell_type": "code",
   "execution_count": null,
   "id": "271fe926",
   "metadata": {},
   "outputs": [],
   "source": [
    "def print_model(s):\n",
    "    \"\"\"Prints the current model.\"\"\"\n",
    "    m = s.model()\n",
    "    print(', '.join([str(x) + ' = ' + str(m[x]) for x in [a,b]]))"
   ]
  },
  {
   "cell_type": "code",
   "execution_count": null,
   "id": "ccc67f3c",
   "metadata": {},
   "outputs": [],
   "source": [
    "def solve_and_print(s):\n",
    "    \"\"\"Solves constraints, prints model, and checks uniqueness.\"\"\"\n",
    "    result = s.check()\n",
    "    if result == sat:\n",
    "        print_model(s)\n",
    "        if s.check(block_model(s)) == unsat:\n",
    "            print('unique solution')\n",
    "        else:\n",
    "            print('solution not unique')\n",
    "            print_model(s)\n",
    "    elif result == unsat:\n",
    "        print('unsatisfiable constraints')\n",
    "    else:\n",
    "        print('unable to solve')"
   ]
  },
  {
   "cell_type": "code",
   "execution_count": null,
   "id": "93524327",
   "metadata": {},
   "outputs": [],
   "source": [
    "s = Solver()\n",
    "a, b = [Bool(x) for x in ['a', 'b']]"
   ]
  },
  {
   "cell_type": "markdown",
   "id": "a14c0b81",
   "metadata": {},
   "source": [
    "### NEGATION\n",
    "| A | ~A |\n",
    "| --- | --- |\n",
    "| TRUE | FALSE |\n",
    "| FALSE | TRUE |"
   ]
  },
  {
   "cell_type": "code",
   "execution_count": null,
   "id": "f2ff88b3",
   "metadata": {},
   "outputs": [],
   "source": [
    "s.add(Not(a))\n",
    "solve_and_print(s)"
   ]
  },
  {
   "cell_type": "markdown",
   "id": "e9009ae8",
   "metadata": {},
   "source": [
    "### CONJUNCTION\n",
    "| A | B | A and B |\n",
    "| --- | --- | --- |\n",
    "| FALSE | FALSE | FALSE |\n",
    "| FALSE | TRUE |  FALSE |\n",
    "| TRUE | FALSE |  FALSE |\n",
    "| TRUE | TRUE | TRUE |"
   ]
  },
  {
   "cell_type": "code",
   "execution_count": null,
   "id": "1a3ba152",
   "metadata": {},
   "outputs": [],
   "source": [
    "s = Solver()\n",
    "s.add(And(a,b))\n",
    "solve_and_print(s)"
   ]
  },
  {
   "cell_type": "markdown",
   "id": "fe9d89d5",
   "metadata": {},
   "source": [
    "### DISJUNCTION\n",
    "| A | B | A or B |\n",
    "| --- | --- | --- |\n",
    "| FALSE | FALSE | FALSE |\n",
    "| FALSE | TRUE |  TRUE |\n",
    "| TRUE | FALSE |  TRUE |\n",
    "| TRUE | TRUE | TRUE |"
   ]
  },
  {
   "cell_type": "code",
   "execution_count": null,
   "id": "d98c7c8e",
   "metadata": {},
   "outputs": [],
   "source": [
    "s = Solver()\n",
    "s.add(Or(a,b))\n",
    "solve_and_print(s)"
   ]
  },
  {
   "cell_type": "markdown",
   "id": "4e8989a5",
   "metadata": {},
   "source": [
    "### EXCLUSIVE OR\n",
    "| A | B | A Xor B |\n",
    "| --- | --- | --- |\n",
    "| FALSE | FALSE | FALSE |\n",
    "| FALSE | TRUE |  TRUE |\n",
    "| TRUE | FALSE |  TRUE |\n",
    "| TRUE | TRUE | FALSE |"
   ]
  },
  {
   "cell_type": "code",
   "execution_count": null,
   "id": "1bdceb93",
   "metadata": {},
   "outputs": [],
   "source": [
    "s = Solver()\n",
    "s.add(Xor(a,b))\n",
    "solve_and_print(s)"
   ]
  },
  {
   "cell_type": "markdown",
   "id": "4244fb8a",
   "metadata": {},
   "source": [
    "### IMPLICATION\n",
    "| A | B | A Implies B |\n",
    "| --- | --- | --- |\n",
    "| FALSE | FALSE | TRUE |\n",
    "| FALSE | TRUE |  TRUE |\n",
    "| TRUE | FALSE |  FALSE |\n",
    "| TRUE | TRUE | TRUE |"
   ]
  },
  {
   "cell_type": "code",
   "execution_count": null,
   "id": "0f0dbc56",
   "metadata": {},
   "outputs": [],
   "source": [
    "s = Solver()\n",
    "s.add(Implies(a,b))\n",
    "solve_and_print(s)"
   ]
  },
  {
   "cell_type": "markdown",
   "id": "1c356e8f",
   "metadata": {},
   "source": [
    "### BICONDITIONAL (IF AND ONLY IF)\n",
    "| A | B | A == B |\n",
    "| --- | --- | --- |\n",
    "| FALSE | FALSE | TRUE |\n",
    "| FALSE | TRUE |  FALSE |\n",
    "| TRUE | FALSE |  FALSE |\n",
    "| TRUE | TRUE | TRUE |"
   ]
  },
  {
   "cell_type": "code",
   "execution_count": null,
   "id": "b7bb42c0",
   "metadata": {},
   "outputs": [],
   "source": [
    "s = Solver()\n",
    "s.add((a==b))\n",
    "solve_and_print(s)"
   ]
  },
  {
   "cell_type": "code",
   "execution_count": null,
   "id": "0c2544f5",
   "metadata": {},
   "outputs": [],
   "source": [
    "\"\"\"Code snippet to check other solutions\"\"\"\n",
    "while s.check() == sat:\n",
    "  print(s.model())\n",
    "  s.add(Or(a != s.model()[a], b != s.model()[b]))\n",
    "  "
   ]
  },
  {
   "cell_type": "markdown",
   "id": "0189adff",
   "metadata": {},
   "source": [
    "### HW Solution for Week 2"
   ]
  },
  {
   "cell_type": "code",
   "execution_count": null,
   "id": "dd74e860",
   "metadata": {},
   "outputs": [],
   "source": [
    "sol = Solver()\n",
    "sol.add(Implies(a,b==(b==(Not(a)))))\n",
    "solve_and_print(sol)"
   ]
  },
  {
   "cell_type": "markdown",
   "id": "4e53e9c4",
   "metadata": {},
   "source": [
    "## Tip for Homework 3\n",
    "+ Declare each witness as a Bool variable\n",
    "- Declare the subjects as Bool variables\n",
    "* Add constraints based on statements"
   ]
  },
  {
   "cell_type": "code",
   "execution_count": null,
   "id": "1e157422",
   "metadata": {},
   "outputs": [],
   "source": []
  }
 ],
 "metadata": {
  "kernelspec": {
   "display_name": "Python 3",
   "language": "python",
   "name": "python3"
  },
  "language_info": {
   "codemirror_mode": {
    "name": "ipython",
    "version": 3
   },
   "file_extension": ".py",
   "mimetype": "text/x-python",
   "name": "python",
   "nbconvert_exporter": "python",
   "pygments_lexer": "ipython3",
   "version": "3.8.8"
  }
 },
 "nbformat": 4,
 "nbformat_minor": 5
}
